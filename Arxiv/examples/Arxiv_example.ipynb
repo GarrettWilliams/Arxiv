{
 "cells": [
  {
   "cell_type": "markdown",
   "metadata": {},
   "source": [
    "# Arxiv\n",
    "---\n",
    "Example of using Arxiv class."
   ]
  },
  {
   "cell_type": "code",
   "execution_count": 1,
   "metadata": {},
   "outputs": [],
   "source": [
    "import os\n",
    "import sys\n",
    "path = os.path.join(os.path.normpath(os.getcwd() + os.sep + os.pardir), 'Arxiv')\n",
    "sys.path.insert(0, path)\n",
    "from Arxiv import Arxiv"
   ]
  },
  {
   "cell_type": "code",
   "execution_count": 2,
   "metadata": {},
   "outputs": [],
   "source": [
    "categories_path = os.getcwd()\n",
    "categories_path = os.path.join(categories_path, 'query_information', 'categories.txt')\n",
    "\n",
    "authors_path = os.getcwd()\n",
    "authors_path = os.path.join(authors_path, 'query_information', 'authors.txt')\n",
    "\n",
    "key_phrases_path = os.getcwd()\n",
    "key_phrases_path = os.path.join(key_phrases_path, 'query_information', 'key_phrases.txt')"
   ]
  },
  {
   "cell_type": "code",
   "execution_count": 3,
   "metadata": {},
   "outputs": [
    {
     "data": {
      "text/plain": [
       "'(au:Goodfellow OR au:McInnes) OR (cat:cond-mat.dis-nn OR cat:cs.AI OR cat:cs.CV OR cat:ds.CB OR cat:cs.DC OR cat:cs.GL OR cat:cs.IT OR cat:cs.LG OR cat:cs.NA OR cat:cs.PL OR cat:stat.AP OR cat:stat.CO OR cat:stat.ME OR cat:stat.ML OR cat:stat.OT OR cat:stat.TH OR cat:eess.AS)'"
      ]
     },
     "execution_count": 3,
     "metadata": {},
     "output_type": "execute_result"
    }
   ],
   "source": [
    "search_query_string = Arxiv.simple_search_query_generator(categories=categories_path, authors=authors_path)\n",
    "search_query_string"
   ]
  },
  {
   "cell_type": "code",
   "execution_count": 4,
   "metadata": {},
   "outputs": [],
   "source": [
    "Arxiv_example = Arxiv()"
   ]
  },
  {
   "cell_type": "code",
   "execution_count": 9,
   "metadata": {
    "scrolled": false
   },
   "outputs": [
    {
     "data": {
      "text/plain": [
       "[]"
      ]
     },
     "execution_count": 9,
     "metadata": {},
     "output_type": "execute_result"
    }
   ],
   "source": [
    "Arxiv_example.arxiv_papers(search_query_string)\n",
    "Arxiv_example.fav_papers"
   ]
  },
  {
   "cell_type": "code",
   "execution_count": null,
   "metadata": {},
   "outputs": [],
   "source": [
    "base_path = os.getcwd()\n",
    "outputs = os.path.join(os.getcwd(), 'ouputs')\n",
    "\n",
    "if not os.path.exists(outputs):\n",
    "    os.mkdir(outputs)\n",
    "\n",
    "Arxiv_example._download_papers(outputs)"
   ]
  }
 ],
 "metadata": {
  "kernelspec": {
   "display_name": "Python 3",
   "language": "python",
   "name": "python3"
  },
  "language_info": {
   "codemirror_mode": {
    "name": "ipython",
    "version": 3
   },
   "file_extension": ".py",
   "mimetype": "text/x-python",
   "name": "python",
   "nbconvert_exporter": "python",
   "pygments_lexer": "ipython3",
   "version": "3.7.1"
  }
 },
 "nbformat": 4,
 "nbformat_minor": 2
}
